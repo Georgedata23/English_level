{
 "cells": [
  {
   "cell_type": "code",
   "execution_count": 1,
   "id": "c7145cba",
   "metadata": {},
   "outputs": [],
   "source": [
    "import pandas as pd\n",
    "import numpy as np\n",
    "import re\n",
    "import fitz"
   ]
  },
  {
   "cell_type": "code",
   "execution_count": 2,
   "id": "0afd938e",
   "metadata": {},
   "outputs": [],
   "source": [
    "def pdf_to_dict(filename, category):\n",
    "    doc = fitz.open(f'C:/Users/0727G/Desktop/Projects/Уровень английского/{filename}.pdf') # Открыли файл\n",
    "    pdf_pages = '' # Создали файл с будущим текстом\n",
    "    for page in doc: # Цикл по страницам\n",
    "        text = re.sub(r'©.*\\n.*\\n.*level??\\n|.*level[.]', '', page.get_text()) # Удаление заголовков на каждой странице\n",
    "        pdf_pages += text # Добавление текста к общему\n",
    "    pdf_pages = re.sub(r'\\s+.+[.]\\n', '\\n', pdf_pages) # замена на перенос части речи после слова\n",
    "    pdf_pages = re.split(r'A1\\n|A2\\n|B1\\n|B2\\n|C1\\n]', pdf_pages) # Создание страниц по уровням\n",
    "    word_dict = {}\n",
    "    for page, cat in zip(pdf_pages, category):\n",
    "        words = re.split(r'\\n|\\xa0', page)\n",
    "        result = []\n",
    "        for line in words:\n",
    "            word = re.split(' |,', line)[0]\n",
    "            word = re.sub('[^a-z]*', '', word.lower())\n",
    "            if word != '':\n",
    "                result.append(word)\n",
    "        word_dict[cat] = result\n",
    "        \n",
    "        \n",
    "    return word_dict"
   ]
  },
  {
   "cell_type": "code",
   "execution_count": 3,
   "id": "fdfd56fb",
   "metadata": {},
   "outputs": [],
   "source": [
    "dict_oxsford_3000 = pdf_to_dict('The_Oxford_3000_by_CEFR_level', ['A1', 'A2', 'B1', 'B2'])"
   ]
  },
  {
   "cell_type": "code",
   "execution_count": 4,
   "id": "83c9fb1b",
   "metadata": {},
   "outputs": [],
   "source": [
    "dict_oxsford_5000 = pdf_to_dict('The_Oxford_5000_by_CEFR_level', ['B2', 'C1'])"
   ]
  },
  {
   "cell_type": "code",
   "execution_count": 5,
   "id": "142ac67a",
   "metadata": {},
   "outputs": [],
   "source": [
    "dict_american_3000 = pdf_to_dict('American_Oxford_3000_by_CEFR_level', ['A1', 'A2', 'B1', 'B2'])"
   ]
  },
  {
   "cell_type": "code",
   "execution_count": 6,
   "id": "181b25c2",
   "metadata": {},
   "outputs": [],
   "source": [
    "dict_american_5000 = pdf_to_dict('American_Oxford_5000_by_CEFR_level', ['B2', 'C1'])"
   ]
  },
  {
   "cell_type": "code",
   "execution_count": 7,
   "id": "922fe900",
   "metadata": {},
   "outputs": [
    {
     "data": {
      "text/plain": [
       "{'C1': ['the']}"
      ]
     },
     "execution_count": 7,
     "metadata": {},
     "output_type": "execute_result"
    }
   ],
   "source": [
    "pdf_to_dict('The_Oxford_5000_by_CEFR_level', ['C1'])"
   ]
  },
  {
   "cell_type": "code",
   "execution_count": 8,
   "id": "66314329",
   "metadata": {},
   "outputs": [],
   "source": [
    "Oxford_df = pd.DataFrame(columns=['words', 'level'])"
   ]
  },
  {
   "cell_type": "code",
   "execution_count": 9,
   "id": "05093e01",
   "metadata": {},
   "outputs": [],
   "source": [
    "dicts = [dict_oxsford_3000,\n",
    "         dict_oxsford_5000,\n",
    "         dict_american_3000,\n",
    "         dict_american_5000\n",
    "        ]\n",
    "word_dict = {}\n",
    "for dict in dicts:\n",
    "    for key in dict.keys():\n",
    "        if key in word_dict:\n",
    "            word_dict[key] = set(word_dict[key]) | set(dict[key])\n",
    "        else:\n",
    "            word_dict[key] = dict[key]"
   ]
  },
  {
   "cell_type": "code",
   "execution_count": 10,
   "id": "7eded060",
   "metadata": {},
   "outputs": [
    {
     "data": {
      "text/html": [
       "<div>\n",
       "<style scoped>\n",
       "    .dataframe tbody tr th:only-of-type {\n",
       "        vertical-align: middle;\n",
       "    }\n",
       "\n",
       "    .dataframe tbody tr th {\n",
       "        vertical-align: top;\n",
       "    }\n",
       "\n",
       "    .dataframe thead th {\n",
       "        text-align: right;\n",
       "    }\n",
       "</style>\n",
       "<table border=\"1\" class=\"dataframe\">\n",
       "  <thead>\n",
       "    <tr style=\"text-align: right;\">\n",
       "      <th></th>\n",
       "      <th>words</th>\n",
       "      <th>level</th>\n",
       "    </tr>\n",
       "  </thead>\n",
       "  <tbody>\n",
       "    <tr>\n",
       "      <th>0</th>\n",
       "      <td>american</td>\n",
       "      <td>A1</td>\n",
       "    </tr>\n",
       "    <tr>\n",
       "      <th>1</th>\n",
       "      <td>the</td>\n",
       "      <td>A1</td>\n",
       "    </tr>\n",
       "    <tr>\n",
       "      <th>2</th>\n",
       "      <td>april</td>\n",
       "      <td>A2</td>\n",
       "    </tr>\n",
       "    <tr>\n",
       "      <th>3</th>\n",
       "      <td>brother</td>\n",
       "      <td>A2</td>\n",
       "    </tr>\n",
       "    <tr>\n",
       "      <th>4</th>\n",
       "      <td>very</td>\n",
       "      <td>A2</td>\n",
       "    </tr>\n",
       "    <tr>\n",
       "      <th>...</th>\n",
       "      <td>...</td>\n",
       "      <td>...</td>\n",
       "    </tr>\n",
       "    <tr>\n",
       "      <th>4614</th>\n",
       "      <td>jet</td>\n",
       "      <td>C1</td>\n",
       "    </tr>\n",
       "    <tr>\n",
       "      <th>4615</th>\n",
       "      <td>lyric</td>\n",
       "      <td>C1</td>\n",
       "    </tr>\n",
       "    <tr>\n",
       "      <th>4616</th>\n",
       "      <td>corporation</td>\n",
       "      <td>C1</td>\n",
       "    </tr>\n",
       "    <tr>\n",
       "      <th>4617</th>\n",
       "      <td>liable</td>\n",
       "      <td>C1</td>\n",
       "    </tr>\n",
       "    <tr>\n",
       "      <th>4618</th>\n",
       "      <td>endorsement</td>\n",
       "      <td>C1</td>\n",
       "    </tr>\n",
       "  </tbody>\n",
       "</table>\n",
       "<p>4619 rows × 2 columns</p>\n",
       "</div>"
      ],
      "text/plain": [
       "            words level\n",
       "0        american    A1\n",
       "1             the    A1\n",
       "2           april    A2\n",
       "3         brother    A2\n",
       "4            very    A2\n",
       "...           ...   ...\n",
       "4614          jet    C1\n",
       "4615        lyric    C1\n",
       "4616  corporation    C1\n",
       "4617       liable    C1\n",
       "4618  endorsement    C1\n",
       "\n",
       "[4619 rows x 2 columns]"
      ]
     },
     "execution_count": 10,
     "metadata": {},
     "output_type": "execute_result"
    }
   ],
   "source": [
    "for lvl in word_dict:\n",
    "    Oxford_df = pd.concat([Oxford_df, pd.DataFrame({\n",
    "                                                    'words': [_ for _ in word_dict[lvl]],\n",
    "                                                    'level':[lvl]*len(word_dict[lvl])\n",
    "                                                    })])\n",
    "Oxford_df = Oxford_df.reset_index(drop=True)\n",
    "Oxford_df"
   ]
  },
  {
   "cell_type": "code",
   "execution_count": 11,
   "id": "0d54c438",
   "metadata": {},
   "outputs": [],
   "source": [
    "Oxford_df.drop_duplicates(subset=['words'], inplace=True) # Удалим дубликаты"
   ]
  },
  {
   "cell_type": "code",
   "execution_count": 12,
   "id": "87b24bb7",
   "metadata": {},
   "outputs": [],
   "source": [
    "Oxford_df.dropna(inplace=True)"
   ]
  },
  {
   "cell_type": "code",
   "execution_count": 13,
   "id": "3d5dd8be",
   "metadata": {},
   "outputs": [
    {
     "name": "stdout",
     "output_type": "stream",
     "text": [
      "<class 'pandas.core.frame.DataFrame'>\n",
      "Int64Index: 4366 entries, 0 to 4618\n",
      "Data columns (total 2 columns):\n",
      " #   Column  Non-Null Count  Dtype \n",
      "---  ------  --------------  ----- \n",
      " 0   words   4366 non-null   object\n",
      " 1   level   4366 non-null   object\n",
      "dtypes: object(2)\n",
      "memory usage: 102.3+ KB\n"
     ]
    }
   ],
   "source": [
    "Oxford_df.info()"
   ]
  },
  {
   "cell_type": "code",
   "execution_count": 14,
   "id": "9c580b91",
   "metadata": {},
   "outputs": [
    {
     "data": {
      "text/plain": [
       "array(['A1', 'A2', 'B1', 'B2', 'C1'], dtype=object)"
      ]
     },
     "execution_count": 14,
     "metadata": {},
     "output_type": "execute_result"
    }
   ],
   "source": [
    "Oxford_df['level'].unique()"
   ]
  },
  {
   "cell_type": "code",
   "execution_count": 15,
   "id": "fe0e32e1",
   "metadata": {},
   "outputs": [],
   "source": [
    "Oxford_df.to_csv(\"Oxford_classification.csv\", index=False)"
   ]
  },
  {
   "cell_type": "code",
   "execution_count": null,
   "id": "453b7263",
   "metadata": {},
   "outputs": [],
   "source": []
  }
 ],
 "metadata": {
  "kernelspec": {
   "display_name": "Python 3",
   "language": "python",
   "name": "python3"
  },
  "language_info": {
   "codemirror_mode": {
    "name": "ipython",
    "version": 3
   },
   "file_extension": ".py",
   "mimetype": "text/x-python",
   "name": "python",
   "nbconvert_exporter": "python",
   "pygments_lexer": "ipython3",
   "version": "3.8.8"
  }
 },
 "nbformat": 4,
 "nbformat_minor": 5
}
